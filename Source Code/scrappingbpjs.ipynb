{
 "cells": [
  {
   "cell_type": "code",
   "execution_count": 1,
   "metadata": {},
   "outputs": [],
   "source": [
    "# import libraries\n",
    "import pandas as pd\n",
    "import numpy as np\n",
    "import matplotlib.pyplot as plt\n",
    "import string \n",
    "\n",
    "import re #regex library\n",
    "# %pip install nltk\n",
    "import nltk #import library nltk\n",
    "from nltk.tokenize import sent_tokenize #import sent_tokenize for tokenizing paragraph into sentences\n",
    "from nltk.stem import WordNetLemmatizer\n",
    "from nltk.tokenize import word_tokenize \n",
    "from nltk.probability import FreqDist\n",
    "\n",
    "import requests"
   ]
  },
  {
   "cell_type": "code",
   "execution_count": 10,
   "metadata": {},
   "outputs": [],
   "source": [
    "import snscrape.modules.twitter as sntwitter\n",
    "keyword = 'BPJS Kesehatan'\n",
    "maxTweets = 3000\n",
    "tweets = []\n",
    "tdf = None\n",
    "for i,tweet in enumerate(sntwitter.TwitterSearchScraper(keyword + ' since:2020-01-01 lang:id').get_items()) :\n",
    "        if i > maxTweets :\n",
    "            break\n",
    "        text = tweet.content\n",
    "        pubdate = tweet.date\n",
    "        permalink = tweet.url\n",
    "        tweets.append({\n",
    "            \"pubdate\":pubdate,\n",
    "            \"text\":text\n",
    "        })"
   ]
  },
  {
   "cell_type": "code",
   "execution_count": null,
   "metadata": {},
   "outputs": [],
   "source": [
    "\n",
    "# import snscrape.modules.instagram as sninstagram\n",
    "# keyword = '@marshanda99'\n",
    "# maxTweets = 100\n",
    "# tweets = []\n",
    "# tdf = None\n",
    "# for i,tweet in enumerate(sninstagram.InstagramHashtagScraper(keyword + ' since:2022-09-03 lang:id').get_items()) :\n",
    "#         if i > maxTweets :\n",
    "#             break\n",
    "#         text = tweet.content\n",
    "#         # pubdate = tweet.date\n",
    "#         permalink = tweet.url\n",
    "#         tweets.append({\n",
    "#             # \"pubdate\":pubdate,\n",
    "#             \"text\":text\n",
    "#         })"
   ]
  },
  {
   "cell_type": "code",
   "execution_count": 11,
   "metadata": {},
   "outputs": [
    {
     "data": {
      "text/html": [
       "<div>\n",
       "<style scoped>\n",
       "    .dataframe tbody tr th:only-of-type {\n",
       "        vertical-align: middle;\n",
       "    }\n",
       "\n",
       "    .dataframe tbody tr th {\n",
       "        vertical-align: top;\n",
       "    }\n",
       "\n",
       "    .dataframe thead th {\n",
       "        text-align: right;\n",
       "    }\n",
       "</style>\n",
       "<table border=\"1\" class=\"dataframe\">\n",
       "  <thead>\n",
       "    <tr style=\"text-align: right;\">\n",
       "      <th></th>\n",
       "      <th>pubdate</th>\n",
       "      <th>text</th>\n",
       "    </tr>\n",
       "  </thead>\n",
       "  <tbody>\n",
       "    <tr>\n",
       "      <th>0</th>\n",
       "      <td>2022-10-24 03:37:57+00:00</td>\n",
       "      <td>Resiko dari BPJS gak sih? Aslinya dokter kalo ...</td>\n",
       "    </tr>\n",
       "    <tr>\n",
       "      <th>1</th>\n",
       "      <td>2022-10-24 03:37:14+00:00</td>\n",
       "      <td>@dr_koko28 Resiko dari BPJS gak sih? Aslinya d...</td>\n",
       "    </tr>\n",
       "    <tr>\n",
       "      <th>2</th>\n",
       "      <td>2022-10-22 10:22:03+00:00</td>\n",
       "      <td>Pelayanan buruk RS kpd pasien BPJS itu aku lia...</td>\n",
       "    </tr>\n",
       "    <tr>\n",
       "      <th>3</th>\n",
       "      <td>2022-10-22 06:26:15+00:00</td>\n",
       "      <td>Dannnn alhamdulillah sebagai pengguna bpjs sej...</td>\n",
       "    </tr>\n",
       "    <tr>\n",
       "      <th>4</th>\n",
       "      <td>2022-10-22 02:59:58+00:00</td>\n",
       "      <td>@babecabiita Asli ge suka gedeg sama pelayan k...</td>\n",
       "    </tr>\n",
       "    <tr>\n",
       "      <th>...</th>\n",
       "      <td>...</td>\n",
       "      <td>...</td>\n",
       "    </tr>\n",
       "    <tr>\n",
       "      <th>69</th>\n",
       "      <td>2020-02-19 03:34:06+00:00</td>\n",
       "      <td>@BPJSKesehatanRI Pagi ini Kemo di RS Adam Mali...</td>\n",
       "    </tr>\n",
       "    <tr>\n",
       "      <th>70</th>\n",
       "      <td>2020-02-14 22:01:09+00:00</td>\n",
       "      <td>@kidulblumbang @Ndoro_Raghil Gak boleh gtu..mr...</td>\n",
       "    </tr>\n",
       "    <tr>\n",
       "      <th>71</th>\n",
       "      <td>2020-02-06 15:07:36+00:00</td>\n",
       "      <td>Pendidikan di Fakultas berusaha membentuk maha...</td>\n",
       "    </tr>\n",
       "    <tr>\n",
       "      <th>72</th>\n",
       "      <td>2020-01-29 23:09:58+00:00</td>\n",
       "      <td>@habibthink Tidak setuju karena pelayan terhad...</td>\n",
       "    </tr>\n",
       "    <tr>\n",
       "      <th>73</th>\n",
       "      <td>2020-01-23 15:14:35+00:00</td>\n",
       "      <td>lebih 2000 Rumkit (kebanyakan RSUD) dgn  total...</td>\n",
       "    </tr>\n",
       "  </tbody>\n",
       "</table>\n",
       "<p>74 rows × 2 columns</p>\n",
       "</div>"
      ],
      "text/plain": [
       "                     pubdate  \\\n",
       "0  2022-10-24 03:37:57+00:00   \n",
       "1  2022-10-24 03:37:14+00:00   \n",
       "2  2022-10-22 10:22:03+00:00   \n",
       "3  2022-10-22 06:26:15+00:00   \n",
       "4  2022-10-22 02:59:58+00:00   \n",
       "..                       ...   \n",
       "69 2020-02-19 03:34:06+00:00   \n",
       "70 2020-02-14 22:01:09+00:00   \n",
       "71 2020-02-06 15:07:36+00:00   \n",
       "72 2020-01-29 23:09:58+00:00   \n",
       "73 2020-01-23 15:14:35+00:00   \n",
       "\n",
       "                                                 text  \n",
       "0   Resiko dari BPJS gak sih? Aslinya dokter kalo ...  \n",
       "1   @dr_koko28 Resiko dari BPJS gak sih? Aslinya d...  \n",
       "2   Pelayanan buruk RS kpd pasien BPJS itu aku lia...  \n",
       "3   Dannnn alhamdulillah sebagai pengguna bpjs sej...  \n",
       "4   @babecabiita Asli ge suka gedeg sama pelayan k...  \n",
       "..                                                ...  \n",
       "69  @BPJSKesehatanRI Pagi ini Kemo di RS Adam Mali...  \n",
       "70  @kidulblumbang @Ndoro_Raghil Gak boleh gtu..mr...  \n",
       "71  Pendidikan di Fakultas berusaha membentuk maha...  \n",
       "72  @habibthink Tidak setuju karena pelayan terhad...  \n",
       "73  lebih 2000 Rumkit (kebanyakan RSUD) dgn  total...  \n",
       "\n",
       "[74 rows x 2 columns]"
      ]
     },
     "execution_count": 11,
     "metadata": {},
     "output_type": "execute_result"
    }
   ],
   "source": [
    "import pandas as pd\n",
    "df = pd.DataFrame(tweets)\n",
    "df"
   ]
  },
  {
   "cell_type": "code",
   "execution_count": 8,
   "metadata": {},
   "outputs": [],
   "source": [
    "df.to_csv('pelayananbpjs2.csv')"
   ]
  },
  {
   "cell_type": "code",
   "execution_count": null,
   "metadata": {},
   "outputs": [],
   "source": [
    "# import snscrape.modules.facebook as snfacebook\n",
    "# sninstagram.InstagramUserScraper"
   ]
  },
  {
   "cell_type": "code",
   "execution_count": null,
   "metadata": {},
   "outputs": [],
   "source": [
    "# load dataset into pandas\n",
    "data = pd.read_csv('C:/Users/Lenovo/Downloads/datacoba.csv')\n",
    "data.head()"
   ]
  }
 ],
 "metadata": {
  "kernelspec": {
   "display_name": "Python 3.9.13 ('myenv')",
   "language": "python",
   "name": "python3"
  },
  "language_info": {
   "codemirror_mode": {
    "name": "ipython",
    "version": 3
   },
   "file_extension": ".py",
   "mimetype": "text/x-python",
   "name": "python",
   "nbconvert_exporter": "python",
   "pygments_lexer": "ipython3",
   "version": "3.9.13"
  },
  "orig_nbformat": 4,
  "vscode": {
   "interpreter": {
    "hash": "e5b705084e86d764c57f58bcbe1f1ea3778e3281a0fcf888f61d7a501a99b833"
   }
  }
 },
 "nbformat": 4,
 "nbformat_minor": 2
}

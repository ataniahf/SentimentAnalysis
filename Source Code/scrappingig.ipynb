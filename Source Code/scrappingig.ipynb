{
 "cells": [
  {
   "cell_type": "code",
   "execution_count": 2,
   "metadata": {},
   "outputs": [],
   "source": [
    "import pandas as pd\n",
    "import time\n",
    "from selenium import webdriver\n",
    "from selenium.webdriver.common.keys import Keys\n",
    "from selenium.webdriver.support import expected_conditions as EC\n",
    "from selenium.webdriver.common.by import By\n",
    "from selenium.common import exceptions \n",
    "from selenium.webdriver.support.wait import WebDriverWait\n",
    "from pandas import ExcelWriter"
   ]
  },
  {
   "cell_type": "code",
   "execution_count": 2,
   "metadata": {},
   "outputs": [
    {
     "name": "stderr",
     "output_type": "stream",
     "text": [
      "C:\\Users\\Lenovo\\AppData\\Local\\Temp\\ipykernel_12224\\2160685897.py:1: DeprecationWarning: executable_path has been deprecated, please pass in a Service object\n",
      "  driver = webdriver.Chrome(\"chromedriver.exe\")\n"
     ]
    }
   ],
   "source": [
    "driver = webdriver.Chrome(\"chromedriver.exe\")\n",
    "driver.get(\"https://www.instagram.com/accounts/login/\")"
   ]
  },
  {
   "cell_type": "code",
   "execution_count": 3,
   "metadata": {},
   "outputs": [],
   "source": [
    "uname = 'sun.dayblush'\n",
    "pw = 'Atania@00'\n",
    "\n",
    "username = WebDriverWait(driver, 10).until(EC.element_to_be_clickable((By.CSS_SELECTOR, \"input[name='username']\")))\n",
    "password = WebDriverWait(driver, 10).until(EC.element_to_be_clickable((By.CSS_SELECTOR, \"input[name='password']\")))\n",
    "\n",
    "username.clear()\n",
    "username.send_keys(uname)\n",
    "password.clear()\n",
    "password.send_keys(pw)\n",
    "\n",
    "# Menarget tombol login dan mengkliknya\n",
    "button = WebDriverWait(driver, 2).until(EC.element_to_be_clickable((By.CSS_SELECTOR, \"button[type='submit']\"))).click()"
   ]
  },
  {
   "cell_type": "code",
   "execution_count": 4,
   "metadata": {},
   "outputs": [],
   "source": [
    "# Mengatasi dua notifikasi \"Not Now\"\n",
    "not_now = WebDriverWait(driver, 10).until(EC.element_to_be_clickable((By.XPATH, '//button[contains(text(), \"Not Now\")]'))).click()\n",
    "not_now2 = WebDriverWait(driver, 10).until(EC.element_to_be_clickable((By.XPATH, '//button[contains(text(), \"Not Now\")]'))).click()"
   ]
  },
  {
   "cell_type": "code",
   "execution_count": 54,
   "metadata": {},
   "outputs": [],
   "source": [
    "# driver.get('https://www.instagram.com/p/Cg8GbMkjLvJ/?igshid=YmMyMTA2M2Y=')\n",
    "# driver.get('https://www.instagram.com/p/Ch04D6rvd55/?igshid=YmMyMTA2M2Y=')\n",
    "# driver.get('https://www.instagram.com/p/CfStXvUPRJg/?igshid=YmMyMTA2M2Y%3D')\n",
    "# driver.get('https://www.instagram.com/p/CifEl8PhqpF/?igshid=YmMyMTA2M2Y=')\n",
    "# driver.get('https://www.instagram.com/p/Cd71BJupQkX/?igshid=YmMyMTA2M2Y=')\n",
    "# driver.get('https://www.instagram.com/p/CjjzXl2h7OJ/?igshid=YmMyMTA2M2Y=')\n",
    "# driver.get('https://www.instagram.com/p/CaLuRqChUCN/?igshid=YmMyMTA2M2Y=')\n",
    "# driver.get('https://www.instagram.com/p/CaMQ82IhyXv/?igshid=YmMyMTA2M2Y=')\n",
    "# driver.get('https://www.instagram.com/p/CPVd4W1N2-F/?igshid=YmMyMTA2M2Y=')\n",
    "# driver.get('https://www.instagram.com/p/CaV65e9LPn1/?igshid=YmMyMTA2M2Y=')\n",
    "driver.get('https://www.instagram.com/p/CemwRl_IfWz/?igshid=YmMyMTA2M2Y=')"
   ]
  },
  {
   "cell_type": "code",
   "execution_count": null,
   "metadata": {},
   "outputs": [],
   "source": [
    "# Membuka seluruh data di kolom komentar\n",
    "i = 0\n",
    "while i < 20: # Menarget seberapa banyak tombol \"load more comments\" akan di-klik.\n",
    "    load_more_comment= WebDriverWait(driver,20).until(EC.element_to_be_clickable((By.XPATH, '//*[@id=\"mount_0_0_rW\"]/div/div/div/div[1]/div/div/div/div[1]/section/main/div[1]/div[1]/article/div/div[2]/div/div[2]/div[1]/ul/li/div/button/div/svg')))\n",
    "    try: \n",
    "        load_more_comment.click()\n",
    "        time.sleep(3)\n",
    "        \n",
    "    except exceptions.StaleElementReferenceException as e:\n",
    "        print(str(e))\n",
    "        pass\n",
    "    finally:\n",
    "        i += 1"
   ]
  },
  {
   "cell_type": "code",
   "execution_count": 55,
   "metadata": {},
   "outputs": [],
   "source": [
    "# Membuka seluruh data di kolom komentar\n",
    "time.sleep(10)\n",
    "\n",
    "# Menentukan indeks data\n",
    "user_names = []\n",
    "user_comments = []\n",
    "\n",
    "# Meminta webdriver untuk menemukan elemen kolom komentar\n",
    "comment = driver.find_elements(By.CLASS_NAME,'_a9zj ')\n",
    "\n",
    "# Mengambil data username dan komentarnya\n",
    "for c in comment:\n",
    "    container = c.find_element(By.CLASS_NAME,'_a9zr')\n",
    "    name = container.find_element(By.CLASS_NAME,'_a9zc').text\n",
    "    content = container.find_element(By.CLASS_NAME,'_a9zs').text\n",
    "    content = content.replace('\\n', ' ').strip().rstrip()\n",
    "    user_names.append(name)\n",
    "    user_comments.append(content)"
   ]
  },
  {
   "cell_type": "code",
   "execution_count": 51,
   "metadata": {},
   "outputs": [],
   "source": [
    "# Memasukkan data ke file CSV\n",
    "    \n",
    "comments_df = pd.DataFrame({\"username\": user_names, \"comment\": user_comments})\n",
    "comments_df.to_csv(\"IGposttarifsesuaigaji.csv\", index=False)"
   ]
  },
  {
   "cell_type": "code",
   "execution_count": 5,
   "metadata": {},
   "outputs": [],
   "source": [
    "# menggabungkan dataset baru dengan dataset lama\n",
    "dtawal1 = pd.read_csv('IGpostanakbpjs.csv')\n",
    "dtawal2 = pd.read_csv('IGpostbayardenda.csv')\n",
    "dtawal3 = pd.read_csv('IGpostbpjsbumil.csv')\n",
    "dtawal4 = pd.read_csv('IGposterrorrscm.csv')\n",
    "dtawal5 = pd.read_csv('IGpostklaimkacamata1.csv')\n",
    "dtawal6 = pd.read_csv('IGpostrawatinap.csv')\n",
    "dtawal7 = pd.read_csv('IGpostsyaratbelitanah1.csv')\n",
    "dtawal8 = pd.read_csv('IGpostsyaratbelitanahsimhaji.csv')\n",
    "dtawal9 = pd.read_csv('IGposttarifsesuaigaji.csv')\n",
    "dtawal10 = pd.read_csv('IGposttelatbayar.csv')\n",
    "dtawal11 = pd.read_csv('IGposttidakdijaminbpjs.csv')\n",
    "\n",
    "# dtbaru = pd.DataFrame({\"username\": user_names, \"comment\": user_comments})\n",
    "dt_gabungan = pd.concat([dtawal1,dtawal2,dtawal3,dtawal4,dtawal5,dtawal6,dtawal7,dtawal8,dtawal9,dtawal10,dtawal11]).drop_duplicates().reset_index(drop=True)\n",
    "# dt_gabungan.set_index('Datetime', inplace=True)\n",
    "# print(dt_gabungan.head())\n",
    "dt_gabungan.to_csv(\"InstagramBPJSgabung2.csv\", index=False)# "
   ]
  },
  {
   "cell_type": "code",
   "execution_count": 26,
   "metadata": {},
   "outputs": [],
   "source": [
    "# menggabungkan dataset baru dengan dataset lama\n",
    "dt1 = pd.read_csv('bpjsatan.csv')\n",
    "dt2 = pd.read_csv('Data_BPJS.csv')\n",
    "dt3 = pd.read_csv('kenaikanbpjs.csv')\n",
    "dt4 = pd.read_csv('obatbpjs2.csv')\n",
    "dt5 = pd.read_csv('pelayananbpjs2.csv')\n",
    "dt6 = pd.read_csv('rsbpjs.csv')\n",
    "\n",
    "# dtbaru = pd.DataFrame({\"username\": user_names, \"comment\": user_comments})\n",
    "dt_gabungan = pd.concat([dt1,dt2,dt3,dt4,dt5,dt6]).drop_duplicates().reset_index(drop=True)\n",
    "# dt_gabungan.set_index('Datetime', inplace=True)\n",
    "# print(dt_gabungan.head())\n",
    "dt_gabungan.to_csv(\"TwitterBPJSgabung2.csv\", index=False)"
   ]
  },
  {
   "cell_type": "code",
   "execution_count": 25,
   "metadata": {},
   "outputs": [],
   "source": [
    "# menggabungkan dataset baru dengan dataset lama\n",
    "dat1 = pd.read_csv('hasilbelompreprobaru2.csv')\n",
    "dat2 = pd.read_csv('hasilbelumpreprobaru3.csv')\n",
    "dat3 = pd.read_csv('hasilbelumprepro4.csv')\n",
    "dat4 = pd.read_csv('hasilbelompreprobaru1.csv')\n",
    "\n",
    "# dtbaru = pd.DataFrame({\"username\": user_names, \"comment\": user_comments})\n",
    "dt_gabungan = pd.concat([dat1,dat2,dat3,dat4]).drop_duplicates().reset_index(drop=True)\n",
    "# dt_gabungan.set_index('Datetime', inplace=True)\n",
    "# print(dt_gabungan.head())\n",
    "dt_gabungan.to_csv(\"HasilBelumPrepro.csv\", index=False)"
   ]
  },
  {
   "cell_type": "code",
   "execution_count": null,
   "metadata": {},
   "outputs": [],
   "source": [
    "# menggabungkan dataset baru dengan dataset lama\n",
    "data1 = pd.read_csv('InstagramBPJSgabung2.csv')\n",
    "data2 = pd.read_csv('TwitterBPJSgabung2.csv')\n",
    "\n",
    "# dtbaru = pd.DataFrame({\"username\": user_names, \"comment\": user_comments})\n",
    "dt_gabungan = pd.concat([data1,data2]).drop_duplicates().reset_index(drop=True)\n",
    "# dt_gabungan.set_index('Datetime', inplace=True)\n",
    "# print(dt_gabungan.head())\n",
    "dt_gabungan.to_csv(\"IgTwitBPJSgabung.csv\", index=False)"
   ]
  },
  {
   "cell_type": "code",
   "execution_count": 6,
   "metadata": {},
   "outputs": [
    {
     "data": {
      "text/html": [
       "<div>\n",
       "<style scoped>\n",
       "    .dataframe tbody tr th:only-of-type {\n",
       "        vertical-align: middle;\n",
       "    }\n",
       "\n",
       "    .dataframe tbody tr th {\n",
       "        vertical-align: top;\n",
       "    }\n",
       "\n",
       "    .dataframe thead th {\n",
       "        text-align: right;\n",
       "    }\n",
       "</style>\n",
       "<table border=\"1\" class=\"dataframe\">\n",
       "  <thead>\n",
       "    <tr style=\"text-align: right;\">\n",
       "      <th></th>\n",
       "      <th>comment</th>\n",
       "    </tr>\n",
       "  </thead>\n",
       "  <tbody>\n",
       "    <tr>\n",
       "      <th>0</th>\n",
       "      <td>Anak saya wkttu dibawa k IGD panas nya lebih d...</td>\n",
       "    </tr>\n",
       "    <tr>\n",
       "      <th>1</th>\n",
       "      <td>@vhasilviana4599 ini sama kaya anak aku kmrn c...</td>\n",
       "    </tr>\n",
       "    <tr>\n",
       "      <th>2</th>\n",
       "      <td>@vhasilviana4599 jadi demam tingginya karna ap...</td>\n",
       "    </tr>\n",
       "    <tr>\n",
       "      <th>3</th>\n",
       "      <td>@vhasilviana4599 mungkin RS nya ngga bekerjasa...</td>\n",
       "    </tr>\n",
       "    <tr>\n",
       "      <th>4</th>\n",
       "      <td>Anak saya waktu demam diatas 40 sama pas test ...</td>\n",
       "    </tr>\n",
       "    <tr>\n",
       "      <th>...</th>\n",
       "      <td>...</td>\n",
       "    </tr>\n",
       "    <tr>\n",
       "      <th>16394</th>\n",
       "      <td>Tweople, di 2020 ini BPJS Kesehatan akan dan t...</td>\n",
       "    </tr>\n",
       "    <tr>\n",
       "      <th>16395</th>\n",
       "      <td>@PagehJuliarsana  Salam sehat Bapak/Ibu. Jika ...</td>\n",
       "    </tr>\n",
       "    <tr>\n",
       "      <th>16396</th>\n",
       "      <td>@Stemawa_gokeel bisa mengetahui FKRTL/rumah sa...</td>\n",
       "    </tr>\n",
       "    <tr>\n",
       "      <th>16397</th>\n",
       "      <td>@Stemawa_gokeel tidak bisa menangani karena ke...</td>\n",
       "    </tr>\n",
       "    <tr>\n",
       "      <th>16398</th>\n",
       "      <td>@M_Raka_Mauraksa  Salam sehat Bapak. Mohon maa...</td>\n",
       "    </tr>\n",
       "  </tbody>\n",
       "</table>\n",
       "<p>16399 rows × 1 columns</p>\n",
       "</div>"
      ],
      "text/plain": [
       "                                                 comment\n",
       "0      Anak saya wkttu dibawa k IGD panas nya lebih d...\n",
       "1      @vhasilviana4599 ini sama kaya anak aku kmrn c...\n",
       "2      @vhasilviana4599 jadi demam tingginya karna ap...\n",
       "3      @vhasilviana4599 mungkin RS nya ngga bekerjasa...\n",
       "4      Anak saya waktu demam diatas 40 sama pas test ...\n",
       "...                                                  ...\n",
       "16394  Tweople, di 2020 ini BPJS Kesehatan akan dan t...\n",
       "16395  @PagehJuliarsana  Salam sehat Bapak/Ibu. Jika ...\n",
       "16396  @Stemawa_gokeel bisa mengetahui FKRTL/rumah sa...\n",
       "16397  @Stemawa_gokeel tidak bisa menangani karena ke...\n",
       "16398  @M_Raka_Mauraksa  Salam sehat Bapak. Mohon maa...\n",
       "\n",
       "[16399 rows x 1 columns]"
      ]
     },
     "execution_count": 6,
     "metadata": {},
     "output_type": "execute_result"
    }
   ],
   "source": [
    "data = pd.read_csv('IgTwitBPJSgabung.csv', encoding='latin-1')\n",
    "data"
   ]
  }
 ],
 "metadata": {
  "kernelspec": {
   "display_name": "Python 3.9.13 ('myenv')",
   "language": "python",
   "name": "python3"
  },
  "language_info": {
   "codemirror_mode": {
    "name": "ipython",
    "version": 3
   },
   "file_extension": ".py",
   "mimetype": "text/x-python",
   "name": "python",
   "nbconvert_exporter": "python",
   "pygments_lexer": "ipython3",
   "version": "3.9.13"
  },
  "orig_nbformat": 4,
  "vscode": {
   "interpreter": {
    "hash": "e5b705084e86d764c57f58bcbe1f1ea3778e3281a0fcf888f61d7a501a99b833"
   }
  }
 },
 "nbformat": 4,
 "nbformat_minor": 2
}
